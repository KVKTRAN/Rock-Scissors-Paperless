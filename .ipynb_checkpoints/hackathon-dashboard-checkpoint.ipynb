{
 "cells": [
  {
   "cell_type": "code",
   "execution_count": 1,
   "metadata": {
    "scrolled": true
   },
   "outputs": [],
   "source": [
    "import pandas as pd\n",
    "import ipywidgets as widgets\n",
    "import xml.etree.ElementTree as ET\n",
    "from IPython.display import clear_output\n",
    "import hackathon_lib"
   ]
  },
  {
   "cell_type": "code",
   "execution_count": 2,
   "metadata": {},
   "outputs": [],
   "source": [
    "df = hackathon_lib.get_disease_with_genes_df()\n",
    "df1 = hackathon_lib.get_disease_with_phenotypes_df()\n",
    "df2 = hackathon_lib.get_disease_with_epidemiology_df()\n",
    "df3 = hackathon_lib.get_disease_with_func_consequences_df()"
   ]
  },
  {
   "cell_type": "code",
   "execution_count": 8,
   "metadata": {
    "scrolled": true
   },
   "outputs": [],
   "source": [
    "%matplotlib notebook\n",
    "import pandas as pd\n",
    "import matplotlib.pyplot as plt\n",
    "import ipywidgets\n",
    "\n",
    "def print_disability(disease):\n",
    "    count = 0\n",
    "    \n",
    "    print(\" | Disabilities:\")\n",
    "    for dis in disease[\"DisabilityDisorderAssociationList\"]:\n",
    "        for d in dis:\n",
    "            if count == 10:\n",
    "                break\n",
    "            print(\" | ----------------------------------------------------\")\n",
    "            print(\" | Disability : \" + d[\"Disability\"])\n",
    "            print(\" | FrequenceDisability : \" + d[\"FrequenceDisability\"])\n",
    "            print(\" | TemporalityDisability : \" + d[\"TemporalityDisability\"])\n",
    "            print(\" | SeverityDisability : \" + d[\"SeverityDisability\"])\n",
    "            print(\" | LossOfAbility : \" + d[\"LossOfAbility\"])\n",
    "            print(\" | Type : \" + d[\"Type\"])\n",
    "            print(\" | Defined : \" + d[\"Defined\"])\n",
    "            count = count + 1\n",
    "\n",
    "def print_phenotypes(disease):\n",
    "    count = 0\n",
    "    \n",
    "    if disease[\"Number of HPO Disorder Association\"] is not None:\n",
    "        print(\" | Phenotypes: there are \" + disease[\"Number of HPO Disorder Association\"].values[0] + \" phenotypes.\")\n",
    "    else:\n",
    "        print(\" | Phenotypes:\")\n",
    "    for phe in disease[\"HPODisorderAssociationList\"]:\n",
    "        for p in phe:\n",
    "            if count == 10:\n",
    "                break\n",
    "            print(\" | ----------------------------------------------------\")\n",
    "            print(\" | HPO Id: \" + p[\"HPOId\"])\n",
    "            print(\" | HPO Term: \" + p[\"HPOTerm\"])\n",
    "            print(\" | HPO Frequency: \" + p[\"HPOFrequency\"])\n",
    "            \n",
    "def print_prevalances(disease):\n",
    "    print(\" | Prevalances:\")\n",
    "    for pre in disease[\"PrevelanceList\"]:\n",
    "        for p in pre:\n",
    "            print(\" | ----------------------------------------------------\")\n",
    "            print(\" | id: \" + p[\"id\"])\n",
    "            print(\" | Source: \" + p[\"Source\"])\n",
    "            print(\" | Prevalance Type: \" + p[\"PrevalenceType\"])\n",
    "            print(\" | Prevalance Qualication: \" + p[\"PrevalenceQualification\"])\n",
    "            print(\" | Prevalance Class: \" + p[\"PrevalenceClass\"])\n",
    "            if p[\"Valmoy\"] is not None:\n",
    "                print(\" | Valmoy: \" + p[\"Valmoy\"])\n",
    "            else:\n",
    "                print(\" | Valmot: None\")\n",
    "            print(\" | Prevalance Geographic: \" + p[\"PrevalenceGeographic\"])\n",
    "            print(\" | Prevalance Validation Status: \" + p[\"PrevalenceValidationStatus\"])\n",
    "\n",
    "def print_genes(disease):\n",
    "    print(\"Gene Associations:\")\n",
    "    for gene in disease.Genes:\n",
    "        for ge in gene:\n",
    "            print(\"----------------------------------------------------\")\n",
    "            print(\"ID: \" + ge[\"id\"])\n",
    "            print(\"Name: \" + ge[\"name\"])\n",
    "            print(\"Type: \" + ge[\"type\"])\n",
    "            print(\"Synonyms: \")\n",
    "            for sy in ge[\"synonyms\"]:\n",
    "                print(\"     - \" + sy)\n",
    "            print(\"References List: \")\n",
    "            for re in ge[\"ExternalReferences\"]:\n",
    "                print(\"     - Source: \" + re[\"Source\"] + \" | Reference: \" + re[\"Reference\"])\n",
    "       \n",
    "def print_disease(disease):\n",
    "    print(\"----------------------------------------------------\")\n",
    "    print(\"Orpha Code: \" + str(disease.OrphaCode.values[0]))\n",
    "    print(\"Expert Link: \" + disease[\"Expert Link\"].values[0])\n",
    "    print(\"Name: \" + disease.Name.values[0])\n",
    "    print(\"Disorder Type: \" + disease.DisorderType.values[0])\n",
    "    print(\"Disorder Group: \" + disease.DisorderGroup.values[0])\n",
    "    print(\"----------------------------------------------------\")\n",
    "    # print_genes(disease)"
   ]
  },
  {
   "cell_type": "code",
   "execution_count": 4,
   "metadata": {},
   "outputs": [
    {
     "data": {
      "application/vnd.jupyter.widget-view+json": {
       "model_id": "d432f20586464198be771f0eacaee06c",
       "version_major": 2,
       "version_minor": 0
      },
      "text/plain": [
       "HTML(value='<div><h1>Enter the disease name in the search box below to see all related information and data</h…"
      ]
     },
     "metadata": {},
     "output_type": "display_data"
    }
   ],
   "source": [
    "widgets.HTML(\n",
    "    value=\"<div><h1>Enter the disease name in the search box below to see all related information and data</h1></div>\",\n",
    ")"
   ]
  },
  {
   "cell_type": "code",
   "execution_count": 5,
   "metadata": {},
   "outputs": [
    {
     "data": {
      "application/vnd.jupyter.widget-view+json": {
       "model_id": "67662de703cd47829847c75af7b92501",
       "version_major": 2,
       "version_minor": 0
      },
      "text/plain": [
       "Text(value='')"
      ]
     },
     "metadata": {},
     "output_type": "display_data"
    }
   ],
   "source": [
    "def handle_submit(sender):\n",
    "    example = df.loc[df[\"Name\"] == text.value]\n",
    "    with out:\n",
    "        out.clear_output()\n",
    "        print_disease(example)\n",
    "    \n",
    "text = ipywidgets.Text()\n",
    "text.on_submit(handle_submit)\n",
    "display(text)"
   ]
  },
  {
   "cell_type": "code",
   "execution_count": 6,
   "metadata": {
    "scrolled": true
   },
   "outputs": [
    {
     "data": {
      "application/vnd.jupyter.widget-view+json": {
       "model_id": "a268ade42aaa482b99bc4503c30950fb",
       "version_major": 2,
       "version_minor": 0
      },
      "text/plain": [
       "Output()"
      ]
     },
     "metadata": {},
     "output_type": "display_data"
    }
   ],
   "source": [
    "out = widgets.Output()\n",
    "out"
   ]
  },
  {
   "cell_type": "code",
   "execution_count": 7,
   "metadata": {
    "scrolled": true
   },
   "outputs": [
    {
     "data": {
      "application/vnd.jupyter.widget-view+json": {
       "model_id": "1d984a133d3742278ac5e609fc140b21",
       "version_major": 2,
       "version_minor": 0
      },
      "text/plain": [
       "HBox(children=(Button(description='Genes', style=ButtonStyle()), Button(description='Phenotypes', style=Button…"
      ]
     },
     "metadata": {},
     "output_type": "display_data"
    },
    {
     "data": {
      "application/vnd.jupyter.widget-view+json": {
       "model_id": "638e612280b7469b9b64367264cd4db4",
       "version_major": 2,
       "version_minor": 0
      },
      "text/plain": [
       "HBox(children=(Output(), Output(), Output(), Output()))"
      ]
     },
     "metadata": {},
     "output_type": "display_data"
    }
   ],
   "source": [
    "showGeneButton = widgets.Button(description=\"Genes\")\n",
    "showPhenotypesButton = widgets.Button(description=\"Phenotypes\")\n",
    "showPrevalanceButton = widgets.Button(description=\"Prevelance\")\n",
    "showFuncConsButton = widgets.Button(description=\"Functional Consequence\")\n",
    "clearButton = widgets.Button(description=\"Clear\")\n",
    "items = [showGeneButton, showPhenotypesButton, showPrevalanceButton, showFuncConsButton, clearButton]\n",
    "buttons = widgets.HBox(items)\n",
    "\n",
    "gene_output = widgets.Output()\n",
    "phenotype_output = widgets.Output()\n",
    "prevalance_output = widgets.Output()\n",
    "func_cons_output =  widgets.Output()\n",
    "output_items = [gene_output, phenotype_output, prevalance_output, func_cons_output]\n",
    "outputs = widgets.HBox(output_items)\n",
    "\n",
    "display(buttons, outputs)\n",
    "\n",
    "def show_func_cons_clicked(b):\n",
    "    example = df3.loc[df3[\"Name\"] == text.value]\n",
    "    with func_cons_output:\n",
    "        func_cons_output.clear_output()\n",
    "        print_disability(example)\n",
    "\n",
    "def show_prevalance_clicked(b):\n",
    "    example = df2.loc[df2[\"Name\"] == text.value]\n",
    "    with prevalance_output:\n",
    "        prevalance_output.clear_output()\n",
    "        print_prevalances(example)\n",
    "\n",
    "def show_phenotypes_clicked(b):\n",
    "    example = df1.loc[df1[\"Name\"] == text.value]\n",
    "    with phenotype_output:\n",
    "        phenotype_output.clear_output()\n",
    "        print_phenotypes(example)\n",
    "\n",
    "def clear_clicked(b):\n",
    "    for o in output_items:\n",
    "        with o:\n",
    "            o.clear_output()\n",
    "\n",
    "def show_genes_clicked(b):\n",
    "    example = df.loc[df[\"Name\"] == text.value]\n",
    "    with gene_output:\n",
    "        gene_output.clear_output()\n",
    "        print_genes(example)\n",
    "\n",
    "showGeneButton.on_click(show_genes_clicked)\n",
    "showPhenotypesButton.on_click(show_phenotypes_clicked)\n",
    "showPrevalanceButton.on_click(show_prevalance_clicked)\n",
    "showFuncConsButton.on_click(show_func_cons_clicked)\n",
    "clearButton.on_click(clear_clicked)"
   ]
  },
  {
   "cell_type": "code",
   "execution_count": null,
   "metadata": {},
   "outputs": [],
   "source": []
  }
 ],
 "metadata": {
  "kernelspec": {
   "display_name": "Python 3",
   "language": "python",
   "name": "python3"
  },
  "language_info": {
   "codemirror_mode": {
    "name": "ipython",
    "version": 3
   },
   "file_extension": ".py",
   "mimetype": "text/x-python",
   "name": "python",
   "nbconvert_exporter": "python",
   "pygments_lexer": "ipython3",
   "version": "3.7.6"
  }
 },
 "nbformat": 4,
 "nbformat_minor": 4
}
