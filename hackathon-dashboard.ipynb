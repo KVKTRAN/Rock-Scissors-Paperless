{
 "cells": [
  {
   "cell_type": "code",
   "execution_count": 1,
   "metadata": {
    "scrolled": true
   },
   "outputs": [],
   "source": [
    "import pandas as pd\n",
    "import ipywidgets as widgets\n",
    "import xml.etree.ElementTree as ET\n",
    "from IPython.display import clear_output\n",
    "import hackathon_lib\n",
    "import my_print_lib\n",
    "import hackathon_functionality\n",
    "\n",
    "%matplotlib notebook\n",
    "import matplotlib.pyplot as plt"
   ]
  },
  {
   "cell_type": "code",
   "execution_count": 2,
   "metadata": {},
   "outputs": [],
   "source": [
    "df = hackathon_lib.get_disease_with_genes_df()\n",
    "df1 = hackathon_lib.get_disease_with_phenotypes_df()\n",
    "df2 = hackathon_lib.get_disease_with_epidemiology_df()\n",
    "df3 = hackathon_lib.get_disease_with_func_consequences_df()"
   ]
  },
  {
   "cell_type": "code",
   "execution_count": 3,
   "metadata": {},
   "outputs": [],
   "source": [
    "def handle_submit(sender):\n",
    "    example = df.loc[df[\"Name\"] == text.value]\n",
    "    with out:\n",
    "        out.clear_output()\n",
    "        my_print_lib.print_disease(example)\n",
    "    \n",
    "text = widgets.Text()\n",
    "text.on_submit(handle_submit)\n",
    "\n",
    "########################\n",
    "out = widgets.Output()\n",
    "\n",
    "#######################\n",
    "showGeneButton = widgets.Button(description=\"Genes\")\n",
    "showPhenotypesButton = widgets.Button(description=\"Phenotypes\")\n",
    "showPrevalanceButton = widgets.Button(description=\"Prevelance\")\n",
    "showFuncConsButton = widgets.Button(description=\"Functional Consequence\")\n",
    "clearButton = widgets.Button(description=\"Clear\")\n",
    "items = [showGeneButton, showPhenotypesButton, showPrevalanceButton, showFuncConsButton, clearButton]\n",
    "buttons = widgets.HBox(items)\n",
    "\n",
    "gene_output = widgets.Output()\n",
    "phenotype_output = widgets.Output()\n",
    "prevalance_output = widgets.Output()\n",
    "func_cons_output =  widgets.Output()\n",
    "output_items = [gene_output, phenotype_output, prevalance_output, func_cons_output]\n",
    "outputs = widgets.HBox(output_items)\n",
    "\n",
    "def show_func_cons_clicked(b):\n",
    "    example = df3.loc[df3[\"Name\"] == text.value]\n",
    "    with func_cons_output:\n",
    "        func_cons_output.clear_output()\n",
    "        my_print_lib.print_disability(example)\n",
    "\n",
    "def show_prevalance_clicked(b):\n",
    "    example = df2.loc[df2[\"Name\"] == text.value]\n",
    "    with prevalance_output:\n",
    "        prevalance_output.clear_output()\n",
    "        my_print_lib.print_prevalances(example)\n",
    "\n",
    "def show_phenotypes_clicked(b):\n",
    "    example = df1.loc[df1[\"Name\"] == text.value]\n",
    "    with phenotype_output:\n",
    "        phenotype_output.clear_output()\n",
    "        my_print_lib.print_phenotypes(example)\n",
    "\n",
    "def clear_clicked(b):\n",
    "    for o in output_items:\n",
    "        with o:\n",
    "            o.clear_output()\n",
    "\n",
    "def show_genes_clicked(b):\n",
    "    example = df.loc[df[\"Name\"] == text.value]\n",
    "    with gene_output:\n",
    "        gene_output.clear_output()\n",
    "        my_print_lib.print_genes(example)\n",
    "\n",
    "showGeneButton.on_click(show_genes_clicked)\n",
    "showPhenotypesButton.on_click(show_phenotypes_clicked)\n",
    "showPrevalanceButton.on_click(show_prevalance_clicked)\n",
    "showFuncConsButton.on_click(show_func_cons_clicked)\n",
    "clearButton.on_click(clear_clicked)\n",
    "tag1Title = widgets.HTML(\n",
    "    value=\"<div><h2>Enter the disease name in the search box below to see all related information and data</h2></div>\",\n",
    ")\n",
    "\n",
    "children1 = widgets.VBox([tag1Title, text, out, buttons, outputs])\n",
    "\n",
    "# display(a)"
   ]
  },
  {
   "cell_type": "code",
   "execution_count": 4,
   "metadata": {},
   "outputs": [],
   "source": [
    "out2a = widgets.Output()\n",
    "out2b = widgets.Output()\n",
    "\n",
    "output2 = widgets.HBox([out2a, out2b])\n",
    "text2 = widgets.Text()\n",
    "\n",
    "def handle_submit2(sender):\n",
    "    example = hackathon_functionality.get_disease_from_gene(text2.value)\n",
    "    with out2a:\n",
    "        out2a.clear_output()\n",
    "        hackathon_functionality.print_diseases_with_gene(example)\n",
    "    with out2b:\n",
    "        out2b.clear_output()\n",
    "        hackathon_functionality.print_gene(example)\n",
    "    \n",
    "\n",
    "text2.on_submit(handle_submit2)\n",
    "\n",
    "tag2Title = widgets.HTML(\n",
    "    value=\"<div><h2>Enter the gene symbol to view the diseases that associated with the gene</h2></div>\",\n",
    ")\n",
    "children2 = widgets.VBox([tag2Title, text2, output2])"
   ]
  },
  {
   "cell_type": "code",
   "execution_count": 5,
   "metadata": {},
   "outputs": [],
   "source": [
    "def handle_submit3(sender):\n",
    "    example = hackathon_functionality.get_disease_from_gene(text3.value)\n",
    "    with out3:\n",
    "        out3.clear_output()\n",
    "        for e in example:\n",
    "            my_print_lib.print_disease(e)\n",
    "    \n",
    "text3 = widgets.Text()\n",
    "text3.on_submit(handle_submit3)\n",
    "\n",
    "out3 = widgets.Output()\n",
    "\n",
    "tag3Title = widgets.HTML(\n",
    "    value=\"<div><h2>Enter phenotype to search for all diseases associated with it</h2></div>\",\n",
    ")\n",
    "children3 = widgets.VBox([tag3Title, text3, out3])"
   ]
  },
  {
   "cell_type": "code",
   "execution_count": 6,
   "metadata": {},
   "outputs": [],
   "source": [
    "def handle_submit4(sender):\n",
    "    example = hackathon_functionality.get_disease_from_gene(text4.value)\n",
    "    with out4:\n",
    "        out4.clear_output()\n",
    "        for e in example:\n",
    "            my_print_lib.print_disease(e)\n",
    "    \n",
    "text4 = widgets.Text()\n",
    "text4.on_submit(handle_submit4)\n",
    "\n",
    "out4 = widgets.Output()\n",
    "\n",
    "tag4Title = widgets.HTML(\n",
    "    value=\"<div><h2>Enter prevalence to search for all diseases associated with it</h2></div>\",\n",
    ")\n",
    "children4 = widgets.VBox([tag4Title, text4, out4])"
   ]
  },
  {
   "cell_type": "code",
   "execution_count": 7,
   "metadata": {},
   "outputs": [],
   "source": [
    "def handle_submit5(sender):\n",
    "    example = hackathon_functionality.get_disease_from_gene(text5.value)\n",
    "    with out5:\n",
    "        out5.clear_output()\n",
    "        for e in example:\n",
    "            my_print_lib.print_disease(e)\n",
    "    \n",
    "text5 = widgets.Text()\n",
    "text5.on_submit(handle_submit5)\n",
    "\n",
    "out5 = widgets.Output()\n",
    "\n",
    "tag5Title = widgets.HTML(\n",
    "    value=\"<div><h2>Enter functional consequence to search for all diseases associated with it</h2></div>\",\n",
    ")\n",
    "children5 = widgets.VBox([tag5Title, text5, out5])"
   ]
  },
  {
   "cell_type": "code",
   "execution_count": 8,
   "metadata": {},
   "outputs": [
    {
     "data": {
      "application/vnd.jupyter.widget-view+json": {
       "model_id": "58a9609132de42ada80e97fc44ae8000",
       "version_major": 2,
       "version_minor": 0
      },
      "text/plain": [
       "Tab(children=(VBox(children=(HTML(value='<div><h2>Enter the disease name in the search box below to see all re…"
      ]
     },
     "metadata": {},
     "output_type": "display_data"
    }
   ],
   "source": [
    "tab_contents = [\"Search By Disease\", \"By Genes\", \"By Phenotypes\", \"By Prevalence\", \"By Functional Consequence\"]\n",
    "children = [children1, children2, children3, children4, children5]\n",
    "tab = widgets.Tab()\n",
    "tab.children = children\n",
    "for title, (index, _) in zip(tab_contents, enumerate(tab.children)):\n",
    "    tab.set_title(index, title)\n",
    "tab"
   ]
  },
  {
   "cell_type": "code",
   "execution_count": null,
   "metadata": {},
   "outputs": [],
   "source": []
  }
 ],
 "metadata": {
  "kernelspec": {
   "display_name": "Python 3",
   "language": "python",
   "name": "python3"
  },
  "language_info": {
   "codemirror_mode": {
    "name": "ipython",
    "version": 3
   },
   "file_extension": ".py",
   "mimetype": "text/x-python",
   "name": "python",
   "nbconvert_exporter": "python",
   "pygments_lexer": "ipython3",
   "version": "3.7.9"
  }
 },
 "nbformat": 4,
 "nbformat_minor": 4
}
